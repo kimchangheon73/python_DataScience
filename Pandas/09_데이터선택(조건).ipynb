{
 "cells": [
  {
   "cell_type": "code",
   "execution_count": null,
   "metadata": {},
   "outputs": [],
   "source": [
    "import pandas as pd\n",
    "\n",
    "df = pd.read_csv(\"./score.csv\",index_col=\"지원번호\")\n",
    "df"
   ]
  },
  {
   "cell_type": "code",
   "execution_count": null,
   "metadata": {},
   "outputs": [],
   "source": [
    "df['키']>=185           # 학생들의 키가 185 이상인지 여부를 참거짓으로 반환"
   ]
  },
  {
   "cell_type": "code",
   "execution_count": null,
   "metadata": {},
   "outputs": [],
   "source": [
    "# 조건에 해당하는 데이터만 추출\n",
    "con = (df['키']>=185)\n",
    "df[con]"
   ]
  },
  {
   "cell_type": "code",
   "execution_count": null,
   "metadata": {},
   "outputs": [],
   "source": [
    "# 조건을 반대로 적용\n",
    "df[~con]"
   ]
  },
  {
   "cell_type": "code",
   "execution_count": null,
   "metadata": {},
   "outputs": [],
   "source": [
    "# 키가 185이상인 수학 데이터를 반환\n",
    "df.loc[con,'수학']"
   ]
  },
  {
   "cell_type": "code",
   "execution_count": null,
   "metadata": {},
   "outputs": [],
   "source": [
    "# 키가 185이상인 국어,영어,수학 데이터를 반환\n",
    "df.loc[con,['국어','영어','수학']]"
   ]
  },
  {
   "cell_type": "markdown",
   "metadata": {},
   "source": [
    "### 다양한 조건"
   ]
  },
  {
   "cell_type": "code",
   "execution_count": null,
   "metadata": {},
   "outputs": [],
   "source": [
    "# 1. &조건\n",
    "con2 = df['소속']=='귀살대'\n",
    "df[con&con2]"
   ]
  },
  {
   "cell_type": "code",
   "execution_count": null,
   "metadata": {},
   "outputs": [],
   "source": [
    "# 2. |조건\n",
    "con3 = df['키']<170\n",
    "con4 = df['키']>200\n",
    "\n",
    "df[con3 | con4]"
   ]
  },
  {
   "cell_type": "markdown",
   "metadata": {},
   "source": [
    "### str함수"
   ]
  },
  {
   "cell_type": "code",
   "execution_count": null,
   "metadata": {},
   "outputs": [],
   "source": [
    "# '탄'으로 시작하는 이름\n",
    "con5 = df['이름'].str.startswith(\"탄\")\n",
    "df[con5]"
   ]
  },
  {
   "cell_type": "code",
   "execution_count": null,
   "metadata": {},
   "outputs": [],
   "source": [
    "# 이름에 '이'가 들어가는 사람\n",
    "con6 = df['이름'].str.contains(\"이\")\n",
    "print(df[con6])\n",
    "print(\"\")\n",
    "\n",
    "\n",
    "# 이름에 '이'가 안들어가는 사람\n",
    "print(df[~con6])"
   ]
  },
  {
   "cell_type": "code",
   "execution_count": null,
   "metadata": {},
   "outputs": [],
   "source": [
    "# 리스트 목록에 있는지 여부 \n",
    "langs = ['Python','Java']\n",
    "con7 = df['SW특기'].isin(langs)\n",
    "df[con7]"
   ]
  },
  {
   "cell_type": "code",
   "execution_count": null,
   "metadata": {},
   "outputs": [],
   "source": [
    "# 대소문자를 구분하지 않고 리스트 목록에 있는지 여부\n",
    "langs = ['python','java']\n",
    "con7 = df.SW특기.str.lower().isin(langs)\n",
    "df[con7]"
   ]
  },
  {
   "cell_type": "code",
   "execution_count": null,
   "metadata": {},
   "outputs": [],
   "source": [
    "# 자바라는 글자가 포함된 데이터를 추출\n",
    "con8 = df.SW특기.str.contains(\"Java\")       # 4~5번은 NaN으로 처리됨 \n",
    "con8 = df.SW특기.str.contains(\"Java\",na=False)  # NaN 데이터에 대해서 참/거짓을 설정\n",
    "df[con8]"
   ]
  },
  {
   "cell_type": "markdown",
   "metadata": {},
   "source": [
    "### 추가학습\n",
    "- https://pandas.pydata.org/pandas-docs/dev/user_guide/text.html"
   ]
  }
 ],
 "metadata": {
  "kernelspec": {
   "display_name": "Python 3.9.7 ('base')",
   "language": "python",
   "name": "python3"
  },
  "language_info": {
   "codemirror_mode": {
    "name": "ipython",
    "version": 3
   },
   "file_extension": ".py",
   "mimetype": "text/x-python",
   "name": "python",
   "nbconvert_exporter": "python",
   "pygments_lexer": "ipython3",
   "version": "3.9.7"
  },
  "orig_nbformat": 4,
  "vscode": {
   "interpreter": {
    "hash": "8df4e0e0c796e2e15924145e6441c62a115ba500877f31d29fc14fd3395fcd67"
   }
  }
 },
 "nbformat": 4,
 "nbformat_minor": 2
}
