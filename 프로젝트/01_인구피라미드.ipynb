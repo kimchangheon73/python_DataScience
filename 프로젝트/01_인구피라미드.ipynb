{
 "cells": [
  {
   "cell_type": "markdown",
   "metadata": {},
   "source": [
    "# 1. 인구피라미드 (2022년 8월)"
   ]
  },
  {
   "cell_type": "code",
   "execution_count": null,
   "metadata": {},
   "outputs": [],
   "source": [
    "import pandas as pd\n",
    "import matplotlib.pyplot as plt\n",
    "import pandas as pd\n",
    "import matplotlib.pyplot as plt\n",
    "import matplotlib\n",
    "matplotlib.rcParams['font.family'] = 'Malgun Gothic'       \n",
    "matplotlib.rcParams['font.size'] = 15                     \n",
    "matplotlib.rcParams['axes.unicode_minus'] = False\n",
    "\n",
    "\n",
    "# 남자데이터_2022\n",
    "df_m = pd.read_excel(\"./202206_202206_연령별인구현황_월간.xlsx\",header=3, index_col=\"행정기관\",usecols=\"B,R:AB\")    # B칼럼을 가져온후 R~AB칼럼을 붙여서 가져온다\n",
    "\n",
    "# 여자데이터_2022\n",
    "df_w = pd.read_excel(\"./202206_202206_연령별인구현황_월간.xlsx\",header=3, index_col=\"행정기관\",usecols=\"B,AE:AO\")\n"
   ]
  },
  {
   "cell_type": "code",
   "execution_count": 160,
   "metadata": {},
   "outputs": [
    {
     "data": {
      "text/html": [
       "<div>\n",
       "<style scoped>\n",
       "    .dataframe tbody tr th:only-of-type {\n",
       "        vertical-align: middle;\n",
       "    }\n",
       "\n",
       "    .dataframe tbody tr th {\n",
       "        vertical-align: top;\n",
       "    }\n",
       "\n",
       "    .dataframe thead th {\n",
       "        text-align: right;\n",
       "    }\n",
       "</style>\n",
       "<table border=\"1\" class=\"dataframe\">\n",
       "  <thead>\n",
       "    <tr style=\"text-align: right;\">\n",
       "      <th></th>\n",
       "      <th>0~9세.1</th>\n",
       "      <th>10~19세.1</th>\n",
       "      <th>20~29세.1</th>\n",
       "      <th>30~39세.1</th>\n",
       "      <th>40~49세.1</th>\n",
       "      <th>50~59세.1</th>\n",
       "      <th>60~69세.1</th>\n",
       "      <th>70~79세.1</th>\n",
       "      <th>80~89세.1</th>\n",
       "      <th>90~99세.1</th>\n",
       "      <th>100세 이상.1</th>\n",
       "    </tr>\n",
       "    <tr>\n",
       "      <th>행정기관</th>\n",
       "      <th></th>\n",
       "      <th></th>\n",
       "      <th></th>\n",
       "      <th></th>\n",
       "      <th></th>\n",
       "      <th></th>\n",
       "      <th></th>\n",
       "      <th></th>\n",
       "      <th></th>\n",
       "      <th></th>\n",
       "      <th></th>\n",
       "    </tr>\n",
       "  </thead>\n",
       "  <tbody>\n",
       "    <tr>\n",
       "      <th>전국</th>\n",
       "      <td>1,867,612</td>\n",
       "      <td>2,422,674</td>\n",
       "      <td>3,432,856</td>\n",
       "      <td>3,442,100</td>\n",
       "      <td>4,135,343</td>\n",
       "      <td>4,374,701</td>\n",
       "      <td>3,559,798</td>\n",
       "      <td>1,726,913</td>\n",
       "      <td>687,199</td>\n",
       "      <td>61,048</td>\n",
       "      <td>1,540</td>\n",
       "    </tr>\n",
       "  </tbody>\n",
       "</table>\n",
       "</div>"
      ],
      "text/plain": [
       "         0~9세.1   10~19세.1   20~29세.1   30~39세.1   40~49세.1   50~59세.1  \\\n",
       "행정기관                                                                     \n",
       "전국    1,867,612  2,422,674  3,432,856  3,442,100  4,135,343  4,374,701   \n",
       "\n",
       "       60~69세.1   70~79세.1 80~89세.1 90~99세.1 100세 이상.1  \n",
       "행정기관                                                    \n",
       "전국    3,559,798  1,726,913  687,199   61,048     1,540  "
      ]
     },
     "execution_count": 160,
     "metadata": {},
     "output_type": "execute_result"
    }
   ],
   "source": [
    "df_m.head(1)"
   ]
  },
  {
   "cell_type": "code",
   "execution_count": 161,
   "metadata": {},
   "outputs": [
    {
     "data": {
      "text/html": [
       "<div>\n",
       "<style scoped>\n",
       "    .dataframe tbody tr th:only-of-type {\n",
       "        vertical-align: middle;\n",
       "    }\n",
       "\n",
       "    .dataframe tbody tr th {\n",
       "        vertical-align: top;\n",
       "    }\n",
       "\n",
       "    .dataframe thead th {\n",
       "        text-align: right;\n",
       "    }\n",
       "</style>\n",
       "<table border=\"1\" class=\"dataframe\">\n",
       "  <thead>\n",
       "    <tr style=\"text-align: right;\">\n",
       "      <th></th>\n",
       "      <th>0~9세.2</th>\n",
       "      <th>10~19세.2</th>\n",
       "      <th>20~29세.2</th>\n",
       "      <th>30~39세.2</th>\n",
       "      <th>40~49세.2</th>\n",
       "      <th>50~59세.2</th>\n",
       "      <th>60~69세.2</th>\n",
       "      <th>70~79세.2</th>\n",
       "      <th>80~89세.2</th>\n",
       "      <th>90~99세.2</th>\n",
       "      <th>100세 이상.2</th>\n",
       "    </tr>\n",
       "    <tr>\n",
       "      <th>행정기관</th>\n",
       "      <th></th>\n",
       "      <th></th>\n",
       "      <th></th>\n",
       "      <th></th>\n",
       "      <th></th>\n",
       "      <th></th>\n",
       "      <th></th>\n",
       "      <th></th>\n",
       "      <th></th>\n",
       "      <th></th>\n",
       "      <th></th>\n",
       "    </tr>\n",
       "  </thead>\n",
       "  <tbody>\n",
       "    <tr>\n",
       "      <th>전국</th>\n",
       "      <td>1,776,962</td>\n",
       "      <td>2,273,703</td>\n",
       "      <td>3,115,025</td>\n",
       "      <td>3,211,199</td>\n",
       "      <td>4,006,331</td>\n",
       "      <td>4,275,030</td>\n",
       "      <td>3,700,984</td>\n",
       "      <td>2,068,244</td>\n",
       "      <td>1,220,707</td>\n",
       "      <td>211,310</td>\n",
       "      <td>6,899</td>\n",
       "    </tr>\n",
       "  </tbody>\n",
       "</table>\n",
       "</div>"
      ],
      "text/plain": [
       "         0~9세.2   10~19세.2   20~29세.2   30~39세.2   40~49세.2   50~59세.2  \\\n",
       "행정기관                                                                     \n",
       "전국    1,776,962  2,273,703  3,115,025  3,211,199  4,006,331  4,275,030   \n",
       "\n",
       "       60~69세.2   70~79세.2   80~89세.2 90~99세.2 100세 이상.2  \n",
       "행정기관                                                      \n",
       "전국    3,700,984  2,068,244  1,220,707  211,310     6,899  "
      ]
     },
     "execution_count": 161,
     "metadata": {},
     "output_type": "execute_result"
    }
   ],
   "source": [
    "df_w.head(1)"
   ]
  },
  {
   "cell_type": "markdown",
   "metadata": {},
   "source": [
    "# 컬럼 명 맞춰주기 \n"
   ]
  },
  {
   "cell_type": "code",
   "execution_count": null,
   "metadata": {},
   "outputs": [],
   "source": [
    "df_m.columns = list(df_m.columns.str.replace('세.1',\"세\").str.replace(\"이상.1\",\"이상\"))\n",
    "df_w.columns = list(df_m.columns.str.replace('세.1',\"세\").str.replace(\"이상.1\",\"이상\"))\n"
   ]
  },
  {
   "cell_type": "code",
   "execution_count": 163,
   "metadata": {},
   "outputs": [
    {
     "data": {
      "text/html": [
       "<div>\n",
       "<style scoped>\n",
       "    .dataframe tbody tr th:only-of-type {\n",
       "        vertical-align: middle;\n",
       "    }\n",
       "\n",
       "    .dataframe tbody tr th {\n",
       "        vertical-align: top;\n",
       "    }\n",
       "\n",
       "    .dataframe thead th {\n",
       "        text-align: right;\n",
       "    }\n",
       "</style>\n",
       "<table border=\"1\" class=\"dataframe\">\n",
       "  <thead>\n",
       "    <tr style=\"text-align: right;\">\n",
       "      <th></th>\n",
       "      <th>0~9세</th>\n",
       "      <th>10~19세</th>\n",
       "      <th>20~29세</th>\n",
       "      <th>30~39세</th>\n",
       "      <th>40~49세</th>\n",
       "      <th>50~59세</th>\n",
       "      <th>60~69세</th>\n",
       "      <th>70~79세</th>\n",
       "      <th>80~89세</th>\n",
       "      <th>90~99세</th>\n",
       "      <th>100세 이상</th>\n",
       "    </tr>\n",
       "    <tr>\n",
       "      <th>행정기관</th>\n",
       "      <th></th>\n",
       "      <th></th>\n",
       "      <th></th>\n",
       "      <th></th>\n",
       "      <th></th>\n",
       "      <th></th>\n",
       "      <th></th>\n",
       "      <th></th>\n",
       "      <th></th>\n",
       "      <th></th>\n",
       "      <th></th>\n",
       "    </tr>\n",
       "  </thead>\n",
       "  <tbody>\n",
       "    <tr>\n",
       "      <th>전국</th>\n",
       "      <td>1,867,612</td>\n",
       "      <td>2,422,674</td>\n",
       "      <td>3,432,856</td>\n",
       "      <td>3,442,100</td>\n",
       "      <td>4,135,343</td>\n",
       "      <td>4,374,701</td>\n",
       "      <td>3,559,798</td>\n",
       "      <td>1,726,913</td>\n",
       "      <td>687,199</td>\n",
       "      <td>61,048</td>\n",
       "      <td>1,540</td>\n",
       "    </tr>\n",
       "  </tbody>\n",
       "</table>\n",
       "</div>"
      ],
      "text/plain": [
       "           0~9세     10~19세     20~29세     30~39세     40~49세     50~59세  \\\n",
       "행정기관                                                                     \n",
       "전국    1,867,612  2,422,674  3,432,856  3,442,100  4,135,343  4,374,701   \n",
       "\n",
       "         60~69세     70~79세   80~89세  90~99세 100세 이상  \n",
       "행정기관                                                 \n",
       "전국    3,559,798  1,726,913  687,199  61,048   1,540  "
      ]
     },
     "execution_count": 163,
     "metadata": {},
     "output_type": "execute_result"
    }
   ],
   "source": [
    "df_m.head(1)"
   ]
  },
  {
   "cell_type": "code",
   "execution_count": 164,
   "metadata": {},
   "outputs": [
    {
     "data": {
      "text/html": [
       "<div>\n",
       "<style scoped>\n",
       "    .dataframe tbody tr th:only-of-type {\n",
       "        vertical-align: middle;\n",
       "    }\n",
       "\n",
       "    .dataframe tbody tr th {\n",
       "        vertical-align: top;\n",
       "    }\n",
       "\n",
       "    .dataframe thead th {\n",
       "        text-align: right;\n",
       "    }\n",
       "</style>\n",
       "<table border=\"1\" class=\"dataframe\">\n",
       "  <thead>\n",
       "    <tr style=\"text-align: right;\">\n",
       "      <th></th>\n",
       "      <th>0~9세</th>\n",
       "      <th>10~19세</th>\n",
       "      <th>20~29세</th>\n",
       "      <th>30~39세</th>\n",
       "      <th>40~49세</th>\n",
       "      <th>50~59세</th>\n",
       "      <th>60~69세</th>\n",
       "      <th>70~79세</th>\n",
       "      <th>80~89세</th>\n",
       "      <th>90~99세</th>\n",
       "      <th>100세 이상</th>\n",
       "    </tr>\n",
       "    <tr>\n",
       "      <th>행정기관</th>\n",
       "      <th></th>\n",
       "      <th></th>\n",
       "      <th></th>\n",
       "      <th></th>\n",
       "      <th></th>\n",
       "      <th></th>\n",
       "      <th></th>\n",
       "      <th></th>\n",
       "      <th></th>\n",
       "      <th></th>\n",
       "      <th></th>\n",
       "    </tr>\n",
       "  </thead>\n",
       "  <tbody>\n",
       "    <tr>\n",
       "      <th>전국</th>\n",
       "      <td>1,776,962</td>\n",
       "      <td>2,273,703</td>\n",
       "      <td>3,115,025</td>\n",
       "      <td>3,211,199</td>\n",
       "      <td>4,006,331</td>\n",
       "      <td>4,275,030</td>\n",
       "      <td>3,700,984</td>\n",
       "      <td>2,068,244</td>\n",
       "      <td>1,220,707</td>\n",
       "      <td>211,310</td>\n",
       "      <td>6,899</td>\n",
       "    </tr>\n",
       "  </tbody>\n",
       "</table>\n",
       "</div>"
      ],
      "text/plain": [
       "           0~9세     10~19세     20~29세     30~39세     40~49세     50~59세  \\\n",
       "행정기관                                                                     \n",
       "전국    1,776,962  2,273,703  3,115,025  3,211,199  4,006,331  4,275,030   \n",
       "\n",
       "         60~69세     70~79세     80~89세   90~99세 100세 이상  \n",
       "행정기관                                                    \n",
       "전국    3,700,984  2,068,244  1,220,707  211,310   6,899  "
      ]
     },
     "execution_count": 164,
     "metadata": {},
     "output_type": "execute_result"
    }
   ],
   "source": [
    "df_w.head(1)"
   ]
  },
  {
   "cell_type": "markdown",
   "metadata": {},
   "source": [
    "# 숫자 내부의 콤마를 없앰 - 데이터 타입 변환\n"
   ]
  },
  {
   "cell_type": "code",
   "execution_count": 165,
   "metadata": {},
   "outputs": [],
   "source": [
    "for i in df_m.columns:\n",
    "    df_m[i] = df_m[i].str.replace(\",\",\"\").astype(\"int64\")\n",
    "    df_w[i] = df_w[i].str.replace(\",\",\"\").astype(\"int64\")"
   ]
  },
  {
   "cell_type": "code",
   "execution_count": 166,
   "metadata": {},
   "outputs": [
    {
     "data": {
      "text/html": [
       "<div>\n",
       "<style scoped>\n",
       "    .dataframe tbody tr th:only-of-type {\n",
       "        vertical-align: middle;\n",
       "    }\n",
       "\n",
       "    .dataframe tbody tr th {\n",
       "        vertical-align: top;\n",
       "    }\n",
       "\n",
       "    .dataframe thead th {\n",
       "        text-align: right;\n",
       "    }\n",
       "</style>\n",
       "<table border=\"1\" class=\"dataframe\">\n",
       "  <thead>\n",
       "    <tr style=\"text-align: right;\">\n",
       "      <th></th>\n",
       "      <th>0~9세</th>\n",
       "      <th>10~19세</th>\n",
       "      <th>20~29세</th>\n",
       "      <th>30~39세</th>\n",
       "      <th>40~49세</th>\n",
       "      <th>50~59세</th>\n",
       "      <th>60~69세</th>\n",
       "      <th>70~79세</th>\n",
       "      <th>80~89세</th>\n",
       "      <th>90~99세</th>\n",
       "      <th>100세 이상</th>\n",
       "    </tr>\n",
       "    <tr>\n",
       "      <th>행정기관</th>\n",
       "      <th></th>\n",
       "      <th></th>\n",
       "      <th></th>\n",
       "      <th></th>\n",
       "      <th></th>\n",
       "      <th></th>\n",
       "      <th></th>\n",
       "      <th></th>\n",
       "      <th></th>\n",
       "      <th></th>\n",
       "      <th></th>\n",
       "    </tr>\n",
       "  </thead>\n",
       "  <tbody>\n",
       "    <tr>\n",
       "      <th>전국</th>\n",
       "      <td>1867612</td>\n",
       "      <td>2422674</td>\n",
       "      <td>3432856</td>\n",
       "      <td>3442100</td>\n",
       "      <td>4135343</td>\n",
       "      <td>4374701</td>\n",
       "      <td>3559798</td>\n",
       "      <td>1726913</td>\n",
       "      <td>687199</td>\n",
       "      <td>61048</td>\n",
       "      <td>1540</td>\n",
       "    </tr>\n",
       "  </tbody>\n",
       "</table>\n",
       "</div>"
      ],
      "text/plain": [
       "         0~9세   10~19세   20~29세   30~39세   40~49세   50~59세   60~69세   70~79세  \\\n",
       "행정기관                                                                           \n",
       "전국    1867612  2422674  3432856  3442100  4135343  4374701  3559798  1726913   \n",
       "\n",
       "      80~89세  90~99세  100세 이상  \n",
       "행정기관                           \n",
       "전국    687199   61048     1540  "
      ]
     },
     "execution_count": 166,
     "metadata": {},
     "output_type": "execute_result"
    }
   ],
   "source": [
    "df_m.head(1)"
   ]
  },
  {
   "cell_type": "code",
   "execution_count": 167,
   "metadata": {},
   "outputs": [
    {
     "data": {
      "text/html": [
       "<div>\n",
       "<style scoped>\n",
       "    .dataframe tbody tr th:only-of-type {\n",
       "        vertical-align: middle;\n",
       "    }\n",
       "\n",
       "    .dataframe tbody tr th {\n",
       "        vertical-align: top;\n",
       "    }\n",
       "\n",
       "    .dataframe thead th {\n",
       "        text-align: right;\n",
       "    }\n",
       "</style>\n",
       "<table border=\"1\" class=\"dataframe\">\n",
       "  <thead>\n",
       "    <tr style=\"text-align: right;\">\n",
       "      <th></th>\n",
       "      <th>0~9세</th>\n",
       "      <th>10~19세</th>\n",
       "      <th>20~29세</th>\n",
       "      <th>30~39세</th>\n",
       "      <th>40~49세</th>\n",
       "      <th>50~59세</th>\n",
       "      <th>60~69세</th>\n",
       "      <th>70~79세</th>\n",
       "      <th>80~89세</th>\n",
       "      <th>90~99세</th>\n",
       "      <th>100세 이상</th>\n",
       "    </tr>\n",
       "    <tr>\n",
       "      <th>행정기관</th>\n",
       "      <th></th>\n",
       "      <th></th>\n",
       "      <th></th>\n",
       "      <th></th>\n",
       "      <th></th>\n",
       "      <th></th>\n",
       "      <th></th>\n",
       "      <th></th>\n",
       "      <th></th>\n",
       "      <th></th>\n",
       "      <th></th>\n",
       "    </tr>\n",
       "  </thead>\n",
       "  <tbody>\n",
       "    <tr>\n",
       "      <th>전국</th>\n",
       "      <td>1776962</td>\n",
       "      <td>2273703</td>\n",
       "      <td>3115025</td>\n",
       "      <td>3211199</td>\n",
       "      <td>4006331</td>\n",
       "      <td>4275030</td>\n",
       "      <td>3700984</td>\n",
       "      <td>2068244</td>\n",
       "      <td>1220707</td>\n",
       "      <td>211310</td>\n",
       "      <td>6899</td>\n",
       "    </tr>\n",
       "  </tbody>\n",
       "</table>\n",
       "</div>"
      ],
      "text/plain": [
       "         0~9세   10~19세   20~29세   30~39세   40~49세   50~59세   60~69세   70~79세  \\\n",
       "행정기관                                                                           \n",
       "전국    1776962  2273703  3115025  3211199  4006331  4275030  3700984  2068244   \n",
       "\n",
       "       80~89세  90~99세  100세 이상  \n",
       "행정기관                            \n",
       "전국    1220707  211310     6899  "
      ]
     },
     "execution_count": 167,
     "metadata": {},
     "output_type": "execute_result"
    }
   ],
   "source": [
    "df_w.head(1)"
   ]
  },
  {
   "cell_type": "code",
   "execution_count": null,
   "metadata": {},
   "outputs": [],
   "source": []
  },
  {
   "cell_type": "code",
   "execution_count": 168,
   "metadata": {},
   "outputs": [
    {
     "name": "stderr",
     "output_type": "stream",
     "text": [
      "c:\\Users\\172559\\Anaconda3\\lib\\site-packages\\openpyxl\\styles\\stylesheet.py:226: UserWarning: Workbook contains no default style, apply openpyxl's default\n",
      "  warn(\"Workbook contains no default style, apply openpyxl's default\")\n"
     ]
    }
   ],
   "source": [
    "# 2012년 데이터 \n",
    "file_name = \"201206_201206_연령별인구현황_월간.xlsx\"\n",
    "\n",
    "df_m_2012 = pd.read_excel(file_name,header=3, index_col=\"행정기관\",usecols=\"B,R:AB\")    \n",
    "\n",
    "df_w_2012 = pd.read_excel(file_name,header=3, index_col=\"행정기관\",usecols=\"B,AE:AO\") "
   ]
  },
  {
   "cell_type": "code",
   "execution_count": 171,
   "metadata": {},
   "outputs": [
    {
     "name": "stderr",
     "output_type": "stream",
     "text": [
      "C:\\Users\\172559\\AppData\\Local\\Temp/ipykernel_15872/3557453676.py:1: FutureWarning: The default value of regex will change from True to False in a future version.\n",
      "  df_m_2012.columns = list(df_m_2012.columns.str.replace('세.1',\"세\").str.replace(\"이상.1\",\"이상\"))\n",
      "C:\\Users\\172559\\AppData\\Local\\Temp/ipykernel_15872/3557453676.py:2: FutureWarning: The default value of regex will change from True to False in a future version.\n",
      "  df_w_2012.columns = list(df_m_2012.columns.str.replace('세.1',\"세\").str.replace(\"이상.1\",\"이상\"))\n"
     ]
    }
   ],
   "source": [
    "df_m_2012.columns = list(df_m_2012.columns.str.replace('세.1',\"세\").str.replace(\"이상.1\",\"이상\"))\n",
    "df_w_2012.columns = list(df_m_2012.columns.str.replace('세.1',\"세\").str.replace(\"이상.1\",\"이상\"))"
   ]
  },
  {
   "cell_type": "code",
   "execution_count": 172,
   "metadata": {},
   "outputs": [
    {
     "data": {
      "text/html": [
       "<div>\n",
       "<style scoped>\n",
       "    .dataframe tbody tr th:only-of-type {\n",
       "        vertical-align: middle;\n",
       "    }\n",
       "\n",
       "    .dataframe tbody tr th {\n",
       "        vertical-align: top;\n",
       "    }\n",
       "\n",
       "    .dataframe thead th {\n",
       "        text-align: right;\n",
       "    }\n",
       "</style>\n",
       "<table border=\"1\" class=\"dataframe\">\n",
       "  <thead>\n",
       "    <tr style=\"text-align: right;\">\n",
       "      <th></th>\n",
       "      <th>0~9세</th>\n",
       "      <th>10~19세</th>\n",
       "      <th>20~29세</th>\n",
       "      <th>30~39세</th>\n",
       "      <th>40~49세</th>\n",
       "      <th>50~59세</th>\n",
       "      <th>60~69세</th>\n",
       "      <th>70~79세</th>\n",
       "      <th>80~89세</th>\n",
       "      <th>90~99세</th>\n",
       "      <th>100세 이상</th>\n",
       "    </tr>\n",
       "    <tr>\n",
       "      <th>행정기관</th>\n",
       "      <th></th>\n",
       "      <th></th>\n",
       "      <th></th>\n",
       "      <th></th>\n",
       "      <th></th>\n",
       "      <th></th>\n",
       "      <th></th>\n",
       "      <th></th>\n",
       "      <th></th>\n",
       "      <th></th>\n",
       "      <th></th>\n",
       "    </tr>\n",
       "  </thead>\n",
       "  <tbody>\n",
       "    <tr>\n",
       "      <th>전국</th>\n",
       "      <td>2,405,649</td>\n",
       "      <td>3,458,894</td>\n",
       "      <td>3,468,677</td>\n",
       "      <td>4,194,842</td>\n",
       "      <td>4,523,894</td>\n",
       "      <td>3,825,618</td>\n",
       "      <td>2,062,777</td>\n",
       "      <td>1,199,290</td>\n",
       "      <td>280,222</td>\n",
       "      <td>29,373</td>\n",
       "      <td>2,791</td>\n",
       "    </tr>\n",
       "  </tbody>\n",
       "</table>\n",
       "</div>"
      ],
      "text/plain": [
       "           0~9세     10~19세     20~29세     30~39세     40~49세     50~59세  \\\n",
       "행정기관                                                                     \n",
       "전국    2,405,649  3,458,894  3,468,677  4,194,842  4,523,894  3,825,618   \n",
       "\n",
       "         60~69세     70~79세   80~89세  90~99세 100세 이상  \n",
       "행정기관                                                 \n",
       "전국    2,062,777  1,199,290  280,222  29,373   2,791  "
      ]
     },
     "execution_count": 172,
     "metadata": {},
     "output_type": "execute_result"
    }
   ],
   "source": [
    "df_m_2012.head(1)"
   ]
  },
  {
   "cell_type": "code",
   "execution_count": 173,
   "metadata": {},
   "outputs": [
    {
     "data": {
      "text/html": [
       "<div>\n",
       "<style scoped>\n",
       "    .dataframe tbody tr th:only-of-type {\n",
       "        vertical-align: middle;\n",
       "    }\n",
       "\n",
       "    .dataframe tbody tr th {\n",
       "        vertical-align: top;\n",
       "    }\n",
       "\n",
       "    .dataframe thead th {\n",
       "        text-align: right;\n",
       "    }\n",
       "</style>\n",
       "<table border=\"1\" class=\"dataframe\">\n",
       "  <thead>\n",
       "    <tr style=\"text-align: right;\">\n",
       "      <th></th>\n",
       "      <th>0~9세</th>\n",
       "      <th>10~19세</th>\n",
       "      <th>20~29세</th>\n",
       "      <th>30~39세</th>\n",
       "      <th>40~49세</th>\n",
       "      <th>50~59세</th>\n",
       "      <th>60~69세</th>\n",
       "      <th>70~79세</th>\n",
       "      <th>80~89세</th>\n",
       "      <th>90~99세</th>\n",
       "      <th>100세 이상</th>\n",
       "    </tr>\n",
       "    <tr>\n",
       "      <th>행정기관</th>\n",
       "      <th></th>\n",
       "      <th></th>\n",
       "      <th></th>\n",
       "      <th></th>\n",
       "      <th></th>\n",
       "      <th></th>\n",
       "      <th></th>\n",
       "      <th></th>\n",
       "      <th></th>\n",
       "      <th></th>\n",
       "      <th></th>\n",
       "    </tr>\n",
       "  </thead>\n",
       "  <tbody>\n",
       "    <tr>\n",
       "      <th>전국</th>\n",
       "      <td>2,251,366</td>\n",
       "      <td>3,113,589</td>\n",
       "      <td>3,186,874</td>\n",
       "      <td>4,031,144</td>\n",
       "      <td>4,332,290</td>\n",
       "      <td>3,798,125</td>\n",
       "      <td>2,231,474</td>\n",
       "      <td>1,675,925</td>\n",
       "      <td>653,766</td>\n",
       "      <td>97,028</td>\n",
       "      <td>9,290</td>\n",
       "    </tr>\n",
       "  </tbody>\n",
       "</table>\n",
       "</div>"
      ],
      "text/plain": [
       "           0~9세     10~19세     20~29세     30~39세     40~49세     50~59세  \\\n",
       "행정기관                                                                     \n",
       "전국    2,251,366  3,113,589  3,186,874  4,031,144  4,332,290  3,798,125   \n",
       "\n",
       "         60~69세     70~79세   80~89세  90~99세 100세 이상  \n",
       "행정기관                                                 \n",
       "전국    2,231,474  1,675,925  653,766  97,028   9,290  "
      ]
     },
     "execution_count": 173,
     "metadata": {},
     "output_type": "execute_result"
    }
   ],
   "source": [
    "df_w_2012.head(1)"
   ]
  },
  {
   "cell_type": "code",
   "execution_count": 174,
   "metadata": {},
   "outputs": [],
   "source": [
    "for i in df_m.columns:\n",
    "    df_m_2012[i] = df_m_2012[i].str.replace(\",\",\"\").astype(\"int64\")\n",
    "    df_w_2012[i] = df_w_2012[i].str.replace(\",\",\"\").astype(\"int64\")"
   ]
  },
  {
   "cell_type": "code",
   "execution_count": 178,
   "metadata": {},
   "outputs": [
    {
     "name": "stderr",
     "output_type": "stream",
     "text": [
      "C:\\Users\\172559\\AppData\\Local\\Temp/ipykernel_15872/1774619998.py:8: UserWarning: FixedFormatter should only be used together with FixedLocator\n",
      "  axs[0,0].set_yticklabels(df_m.columns)\n",
      "C:\\Users\\172559\\AppData\\Local\\Temp/ipykernel_15872/1774619998.py:16: UserWarning: FixedFormatter should only be used together with FixedLocator\n",
      "  axs[0,1].set_xticklabels(df_m.columns, rotation=45)\n",
      "C:\\Users\\172559\\AppData\\Local\\Temp/ipykernel_15872/1774619998.py:23: UserWarning: FixedFormatter should only be used together with FixedLocator\n",
      "  axs[1,0].set_yticklabels(df_m_2012.columns)\n",
      "C:\\Users\\172559\\AppData\\Local\\Temp/ipykernel_15872/1774619998.py:31: UserWarning: FixedFormatter should only be used together with FixedLocator\n",
      "  axs[1,1].set_xticklabels(df_m_2012.columns, rotation=45)\n"
     ]
    },
    {
     "data": {
      "image/png": "[encoded data removed]",
      "text/plain": [
       "<Figure size 1080x720 with 4 Axes>"
      ]
     },
     "metadata": {
      "needs_background": "light"
     },
     "output_type": "display_data"
    }
   ],
   "source": [
    "fig, axs  = plt.subplots(2, 2 ,figsize= (15,10))\n",
    "fig.suptitle(\"세대별 인구 통계\")\n",
    "\n",
    "# 첫번째 그래프 \n",
    "axs[0,0].barh(df_m.columns, -df_m.iloc[0]//1000)\n",
    "axs[0,0].barh(df_w.columns, df_w.iloc[0]//1000)\n",
    "axs[0,0].set_title(\"가로 막대 그래프_2022\")\n",
    "axs[0,0].set_yticklabels(df_m.columns)\n",
    "axs[0,0].legend([\"남자\",\"여자\"])\n",
    "\n",
    "\n",
    "# 두번째 그래프 \n",
    "axs[0,1].bar(df_m.columns, -df_m.iloc[0]//1000)\n",
    "axs[0,1].bar(df_w.columns, df_w.iloc[0]//1000)\n",
    "axs[0,1].set_title(\"세로 막대 그래프_2022\")\n",
    "axs[0,1].set_xticklabels(df_m.columns, rotation=45)\n",
    "axs[0,1].legend([\"남자\",\"여자\"])\n",
    "\n",
    "# 세번째 그래프 \n",
    "axs[1,0].barh(df_m_2012.columns, -df_m_2012.iloc[0]//1000)\n",
    "axs[1,0].barh(df_w_2012.columns, df_w_2012.iloc[0]//1000)\n",
    "axs[1,0].set_title(\"가로 막대 그래프_2012\")\n",
    "axs[1,0].set_yticklabels(df_m_2012.columns)\n",
    "axs[1,0].legend([\"남자\",\"여자\"])\n",
    "\n",
    "\n",
    "# 네번째 그래프 \n",
    "axs[1,1].bar(df_m_2012.columns, -df_m_2012.iloc[0]//1000)\n",
    "axs[1,1].bar(df_w_2012.columns, df_w_2012.iloc[0]//1000)\n",
    "axs[1,1].set_title(\"세로 막대 그래프_2012\")\n",
    "axs[1,1].set_xticklabels(df_m_2012.columns, rotation=45)\n",
    "axs[1,1].legend([\"남자\",\"여자\"])\n",
    "fig.tight_layout()          \n",
    "\n",
    "fig.savefig(\"2012~2022 세대별 남녀 인구수 비교.png\")    "
   ]
  },
  {
   "cell_type": "code",
   "execution_count": null,
   "metadata": {},
   "outputs": [],
   "source": []
  }
 ],
 "metadata": {
  "kernelspec": {
   "display_name": "Python 3.9.7 ('base')",
   "language": "python",
   "name": "python3"
  },
  "language_info": {
   "codemirror_mode": {
    "name": "ipython",
    "version": 3
   },
   "file_extension": ".py",
   "mimetype": "text/x-python",
   "name": "python",
   "nbconvert_exporter": "python",
   "pygments_lexer": "ipython3",
   "version": "3.9.7"
  },
  "orig_nbformat": 4,
  "vscode": {
   "interpreter": {
    "hash": "8df4e0e0c796e2e15924145e6441c62a115ba500877f31d29fc14fd3395fcd67"
   }
  }
 },
 "nbformat": 4,
 "nbformat_minor": 2
}
