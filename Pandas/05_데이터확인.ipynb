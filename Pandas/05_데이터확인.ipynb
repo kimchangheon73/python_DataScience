{
 "cells": [
  {
   "cell_type": "markdown",
   "metadata": {},
   "source": [
    "# 5. 데이터확인"
   ]
  },
  {
   "cell_type": "code",
   "execution_count": null,
   "metadata": {},
   "outputs": [],
   "source": [
    "import pandas as pd\n",
    "data = {\n",
    "    \"이름\" : [\"탄지로\",\"이노스케\",\"젠이츠\",\"네즈코\",\"무잔\",\"코쿠시보\",\"도우마\",\"아카자\"],\n",
    "    \"소속\" : [\"귀살대\",\"귀살대\",\"귀살대\",\"귀살대\",\"오니\",\"오니\",\"오니\",\"오니\"],\n",
    "    \"기술\" : [\"해의호흡\",\"짐승의호흡\",\"번개의호흡\",\"폭혈\",\"촉수공격\",\"달의호흡\",\"빙결\",\"무술\"],\n",
    "     '키' : [197, 184, 168, 187, 188, 202, 188, 190],\n",
    "    '국어' : [90, 40, 80, 40, 15, 80, 55, 100],\n",
    "    '영어' : [85, 35, 75, 60, 20, 100, 65, 85],\n",
    "    '수학' : [100, 50, 70, 70, 10, 95, 45, 90],\n",
    "    '과학' : [95, 55, 80, 75, 35, 85, 40, 95],\n",
    "    '사회' : [85, 25, 75, 80, 10, 80, 35, 95],\n",
    "    'SW특기' : ['Python', 'Java', 'Javascript', '', '', 'C', 'PYTHON', 'C#']\n",
    "}\n",
    "df=pd.DataFrame(data, index=[\"1번\",\"2번\",\"3번\",\"4번\",\"5번\",\"6번\",\"7번\",\"8번\"])\n",
    "\n",
    "df.index.name=\"지원번호\"\n",
    "df.to_csv(\"score.csv\")"
   ]
  },
  {
   "cell_type": "code",
   "execution_count": null,
   "metadata": {},
   "outputs": [],
   "source": [
    "df = pd.read_csv(\"./score.csv\",index_col=\"지원번호\")\n",
    "df"
   ]
  },
  {
   "cell_type": "code",
   "execution_count": null,
   "metadata": {},
   "outputs": [],
   "source": [
    "# dataframe 확인\n",
    "# describe - 연산가능한 자료에 한해 기술통계 자료를 보여줌\n",
    "df.describe()"
   ]
  },
  {
   "cell_type": "code",
   "execution_count": null,
   "metadata": {},
   "outputs": [],
   "source": [
    "# info : 칼럼별 데이터 정보 확인( 결측, 자료형, 메모리 등)\n",
    "df.info()"
   ]
  },
  {
   "cell_type": "code",
   "execution_count": null,
   "metadata": {},
   "outputs": [],
   "source": [
    "# 처음 5개의 행을 가져옴 - 매개변수로 숫자 입력시 그 숫자만큼 가져옴 \n",
    "df.head()"
   ]
  },
  {
   "cell_type": "code",
   "execution_count": null,
   "metadata": {},
   "outputs": [],
   "source": [
    "# 끝의 5개의 행을 가져옴 - 매개변수로 갯수 지정 가능\n",
    "df.tail()"
   ]
  },
  {
   "cell_type": "code",
   "execution_count": null,
   "metadata": {},
   "outputs": [],
   "source": [
    "# value만 출력\n",
    "df.values"
   ]
  },
  {
   "cell_type": "code",
   "execution_count": null,
   "metadata": {},
   "outputs": [],
   "source": [
    "# 인덱스만 출력\n",
    "df.index"
   ]
  },
  {
   "cell_type": "code",
   "execution_count": null,
   "metadata": {},
   "outputs": [],
   "source": [
    "# 컬럼만 출력\n",
    "df.columns"
   ]
  },
  {
   "cell_type": "code",
   "execution_count": null,
   "metadata": {},
   "outputs": [],
   "source": [
    "# (행,열)크기\n",
    "df.shape"
   ]
  },
  {
   "cell_type": "code",
   "execution_count": null,
   "metadata": {},
   "outputs": [],
   "source": [
    "# 시리즈 확인\n",
    "df['키'].describe()"
   ]
  },
  {
   "cell_type": "code",
   "execution_count": null,
   "metadata": {},
   "outputs": [],
   "source": [
    "# 특정 열 최솟값/최댓값/평균\n",
    "print(df['키'].min())\n",
    "print(df['키'].max())\n",
    "print(df['키'].mean())\n",
    "\n",
    "# 큰 값 순서대로 n개 추출\n",
    "print(df['키'].nlargest(3))\n",
    "\n",
    "# 유효한 데이터 갯수 반환 - 결측은 포함 x \n",
    "print(df['SW특기'].count())\n",
    "\n",
    "# 중복을 제외한 고유값 \n",
    "print(df['소속'].unique())\n",
    "\n",
    "# 중복을 제외한 고유값의 갯수 \n",
    "print(df['소속'].nunique())\n"
   ]
  },
  {
   "cell_type": "code",
   "execution_count": null,
   "metadata": {},
   "outputs": [],
   "source": []
  }
 ],
 "metadata": {
  "kernelspec": {
   "display_name": "Python 3.9.7 ('base')",
   "language": "python",
   "name": "python3"
  },
  "language_info": {
   "codemirror_mode": {
    "name": "ipython",
    "version": 3
   },
   "file_extension": ".py",
   "mimetype": "text/x-python",
   "name": "python",
   "nbconvert_exporter": "python",
   "pygments_lexer": "ipython3",
   "version": "3.9.7"
  },
  "orig_nbformat": 4,
  "vscode": {
   "interpreter": {
    "hash": "8df4e0e0c796e2e15924145e6441c62a115ba500877f31d29fc14fd3395fcd67"
   }
  }
 },
 "nbformat": 4,
 "nbformat_minor": 2
}
