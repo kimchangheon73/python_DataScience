{
 "cells": [
  {
   "cell_type": "markdown",
   "id": "b6ce1868",
   "metadata": {},
   "source": [
    "# Pandas \n",
    "- 파이썬에서 사용하는 데이터 분석 라이브러리"
   ]
  },
  {
   "cell_type": "code",
   "execution_count": 1,
   "id": "44dfafb1",
   "metadata": {},
   "outputs": [],
   "source": [
    "import pandas as pd"
   ]
  },
  {
   "cell_type": "markdown",
   "id": "f1932c2a",
   "metadata": {},
   "source": [
    "# 1. Series\n",
    "- 1차원 데이터 (정수, 실수, 문자열 등)"
   ]
  },
  {
   "cell_type": "markdown",
   "id": "2180d2e3",
   "metadata": {},
   "source": [
    "### Series 객체 생성\n",
    "- 예) 1월부터 4월까지의 평균 온도 데이터 (-20,-10,10,20)\n"
   ]
  },
  {
   "cell_type": "code",
   "execution_count": 11,
   "id": "a5c817f3",
   "metadata": {},
   "outputs": [
    {
     "name": "stdout",
     "output_type": "stream",
     "text": [
      "0   -20\n",
      "1   -10\n",
      "2    10\n",
      "3    20\n",
      "dtype: int64\n",
      "-20\n"
     ]
    }
   ],
   "source": [
    "# 1차원 리스트 형태로 입력 \n",
    "temp = pd.Series([-20,-10,10,20])\n",
    "print(temp)\n",
    "print(temp[0])"
   ]
  },
  {
   "cell_type": "markdown",
   "id": "39a9aaef",
   "metadata": {},
   "source": [
    "### Series 객체 생성(index지정)"
   ]
  },
  {
   "cell_type": "code",
   "execution_count": 14,
   "id": "56ea1c5a",
   "metadata": {},
   "outputs": [
    {
     "name": "stdout",
     "output_type": "stream",
     "text": [
      "Jan   -20\n",
      "Feb   -10\n",
      "Mar    10\n",
      "Apr    20\n",
      "dtype: int64\n",
      "-20\n"
     ]
    }
   ],
   "source": [
    "temp = pd.Series([-20,-10,10,20], index=[\"Jan\",\"Feb\",\"Mar\",\"Apr\"])\n",
    "print(temp)\n",
    "print(temp['Jan'])    # 없는 인덱스 지정 시 에러 발생 "
   ]
  },
  {
   "cell_type": "code",
   "execution_count": null,
   "id": "9233b043",
   "metadata": {},
   "outputs": [],
   "source": []
  }
 ],
 "metadata": {
  "kernelspec": {
   "display_name": "Python 3 (ipykernel)",
   "language": "python",
   "name": "python3"
  },
  "language_info": {
   "codemirror_mode": {
    "name": "ipython",
    "version": 3
   },
   "file_extension": ".py",
   "mimetype": "text/x-python",
   "name": "python",
   "nbconvert_exporter": "python",
   "pygments_lexer": "ipython3",
   "version": "3.9.7"
  }
 },
 "nbformat": 4,
 "nbformat_minor": 5
}
